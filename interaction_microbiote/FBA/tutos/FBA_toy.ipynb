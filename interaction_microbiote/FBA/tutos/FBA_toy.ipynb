{
 "cells": [
  {
   "cell_type": "markdown",
   "metadata": {},
   "source": [
    "# 1. Design of a Toy metabolic network"
   ]
  },
  {
   "cell_type": "markdown",
   "metadata": {},
   "source": [
    "First, one need to create a network via all the necessary package"
   ]
  },
  {
   "cell_type": "code",
   "execution_count": 88,
   "metadata": {},
   "outputs": [],
   "source": [
    "%matplotlib inline\n",
    "from cobra import Model, Reaction, Metabolite\n",
    "from cobra.flux_analysis import flux_variability_analysis\n",
    "\n",
    "model = Model('toy')"
   ]
  },
  {
   "cell_type": "markdown",
   "metadata": {},
   "source": [
    "First one need to build a new metabolic network. For this one create a reaction and corresponding attributes, such as the name, localization, and default upper and lower bounds"
   ]
  },
  {
   "cell_type": "code",
   "execution_count": 89,
   "metadata": {},
   "outputs": [
    {
     "name": "stdout",
     "output_type": "stream",
     "text": [
      "Creacting R1\n",
      "Creacting R2\n",
      "Creacting R3\n",
      "Creacting R4\n",
      "Creacting R5\n",
      "Creacting R6\n",
      "Creacting R7\n"
     ]
    }
   ],
   "source": [
    "reactions = dict()\n",
    "for i in range(1,8):\n",
    "    reactions[\"R\"+str(i)] = Reaction(\"R\"+str(i))\n",
    "    reactions[\"R\"+str(i)].name = \"R\"+str(i)\n",
    "    reactions[\"R\"+str(i)].subsystem = 'Body'\n",
    "    reactions[\"R\"+str(i)].lower_bound = 0 # default for irreversible reaction,\n",
    "    reactions[\"R\"+str(i)].upper_bound = 1000 # default\n",
    "    print(\"Creacting R\"+str(i))\n"
   ]
  },
  {
   "cell_type": "markdown",
   "metadata": {},
   "source": [
    "Now, we design all the metabolites"
   ]
  },
  {
   "cell_type": "code",
   "execution_count": 90,
   "metadata": {},
   "outputs": [],
   "source": [
    "A = Metabolite('A', name='A', compartment='c')\n",
    "B = Metabolite('B', name='B', compartment='c')\n",
    "C = Metabolite('C', name='C', compartment='c')\n",
    "D = Metabolite('D', name='D', compartment='c')\n",
    "E = Metabolite('E', name='E', compartment='c')\n",
    "F = Metabolite('F', name='F', compartment='c')"
   ]
  },
  {
   "cell_type": "markdown",
   "metadata": {},
   "source": [
    "and more importantly the stoichoimetric constraints as used for each reaction"
   ]
  },
  {
   "cell_type": "code",
   "execution_count": 91,
   "metadata": {},
   "outputs": [],
   "source": [
    "reactions[\"R1\"].add_metabolites({A:-2, B:-1, C: 1})\n",
    "reactions[\"R2\"].add_metabolites({B:-1, C:-1, D: 1, E: 2})\n",
    "reactions[\"R3\"].add_metabolites({A:-4, D: 1})\n",
    "reactions[\"R4\"].add_metabolites({A:1})\n",
    "reactions[\"R5\"].add_metabolites({B:1})\n",
    "reactions[\"R6\"].add_metabolites({D: -1})\n",
    "reactions[\"R7\"].add_metabolites({E: -1})"
   ]
  },
  {
   "cell_type": "markdown",
   "metadata": {},
   "source": [
    "maybe check if its working by printing reaction 2 "
   ]
  },
  {
   "cell_type": "code",
   "execution_count": 92,
   "metadata": {},
   "outputs": [
    {
     "name": "stdout",
     "output_type": "stream",
     "text": [
      "R2: B + C --> D + 2 E\n"
     ]
    }
   ],
   "source": [
    "print(reactions[\"R2\"])"
   ]
  },
  {
   "cell_type": "markdown",
   "metadata": {},
   "source": [
    "or all of them"
   ]
  },
  {
   "cell_type": "code",
   "execution_count": 93,
   "metadata": {},
   "outputs": [
    {
     "name": "stdout",
     "output_type": "stream",
     "text": [
      "R1: 2 A + B --> C\n",
      "R2: B + C --> D + 2 E\n",
      "R3: 4 A --> D\n",
      "R4:  --> A\n",
      "R5:  --> B\n",
      "R6: D --> \n",
      "R7: E --> \n"
     ]
    }
   ],
   "source": [
    "for i in range(1,8):\n",
    "    print(reactions[\"R\"+str(i)])\n"
   ]
  },
  {
   "cell_type": "markdown",
   "metadata": {},
   "source": [
    "## Making the network more specific\n",
    "Set the model by designing the upper and lower bounds for R4 "
   ]
  },
  {
   "cell_type": "code",
   "execution_count": 94,
   "metadata": {},
   "outputs": [],
   "source": [
    "reactions[\"R4\"].lower_bound = 1\n",
    "reactions[\"R4\"].upper_bound = 6"
   ]
  },
  {
   "cell_type": "markdown",
   "metadata": {},
   "source": [
    "same for R7"
   ]
  },
  {
   "cell_type": "code",
   "execution_count": 95,
   "metadata": {},
   "outputs": [],
   "source": [
    "reactions[\"R7\"].lower_bound = 1\n",
    "reactions[\"R7\"].upper_bound = 4"
   ]
  },
  {
   "cell_type": "markdown",
   "metadata": {},
   "source": [
    "once defined - one add all reactions to the model: here reaction by reaction"
   ]
  },
  {
   "cell_type": "code",
   "execution_count": 96,
   "metadata": {},
   "outputs": [],
   "source": [
    "for i in range(1,8):\n",
    "    model.add_reaction(reactions[\"R\"+str(i)])\n",
    "    "
   ]
  },
  {
   "cell_type": "markdown",
   "metadata": {},
   "source": [
    "From now, you might be interested by some information about your model"
   ]
  },
  {
   "cell_type": "code",
   "execution_count": 97,
   "metadata": {},
   "outputs": [
    {
     "name": "stdout",
     "output_type": "stream",
     "text": [
      "Number of metabolites =  5\n",
      "Number of reactions =  7\n"
     ]
    }
   ],
   "source": [
    "print(\"Number of metabolites = \",len(model.metabolites))\n",
    "print(\"Number of reactions = \",len(model.reactions))"
   ]
  },
  {
   "cell_type": "markdown",
   "metadata": {},
   "source": [
    "To check the model, it is always good to write a loop to get all the reactions, and their upper and lower bounds"
   ]
  },
  {
   "cell_type": "code",
   "execution_count": 98,
   "metadata": {},
   "outputs": [
    {
     "name": "stdout",
     "output_type": "stream",
     "text": [
      "R1: 2 A + B --> C  lb =  0  ub =   1000\n",
      "R2: B + C --> D + 2 E  lb =  0  ub =   1000\n",
      "R3: 4 A --> D  lb =  0  ub =   1000\n",
      "R4:  --> A  lb =  1  ub =   6\n",
      "R5:  --> B  lb =  0  ub =   1000\n",
      "R6: D -->   lb =  0  ub =   1000\n",
      "R7: E -->   lb =  1  ub =   4\n"
     ]
    }
   ],
   "source": [
    "for i in range(0,len(model.reactions)): \n",
    "    print(model.reactions[i],  \" lb = \", model.reactions[i].lower_bound, \" ub =  \", model.reactions[i].upper_bound)\n",
    "    "
   ]
  },
  {
   "cell_type": "markdown",
   "metadata": {},
   "source": [
    "# 2.Flux Balance Analysis\n",
    "Now, the structure is correctly set. We are now optimizing the fluxes within the network. Again we still assume here that the system is at equilibrium: \n",
    "\n",
    "$$S.v = 0$$ \n",
    "s.t. $$v_i \\leq u_b$$ \n",
    "and \n",
    "$$v_i \\geq l_b$$\n",
    "\n",
    "Because there is an infinity of solutions, one need optimize something. This is what one call the objective function. Roughly, one call it also the biomass function. \n",
    "\n",
    "To define the objectives (here maximizing $R_4$ and $R_7$), just call:"
   ]
  },
  {
   "cell_type": "code",
   "execution_count": 99,
   "metadata": {},
   "outputs": [],
   "source": [
    "model.objective = {model.reactions.R4:1,model.reactions.R7:1}"
   ]
  },
  {
   "cell_type": "markdown",
   "metadata": {},
   "source": [
    "And check if everything went well..."
   ]
  },
  {
   "cell_type": "code",
   "execution_count": 100,
   "metadata": {},
   "outputs": [
    {
     "name": "stdout",
     "output_type": "stream",
     "text": [
      "Objective of the model\n",
      "-1.0*R4_reverse_8717c - 1.0*R7_reverse_b9d7e + 1.0*R4 + 1.0*R7\n"
     ]
    }
   ],
   "source": [
    "print('Objective of the model')\n",
    "print(model.objective.expression)"
   ]
  },
  {
   "cell_type": "markdown",
   "metadata": {},
   "source": [
    "For now, one can search for a solution that maximizes the objective function while satisfying the constraints that we already set up (i.e., $Sv=0$, and reversibility of reactions by constraining their bounds $u_b$ and $l_b$)"
   ]
  },
  {
   "cell_type": "code",
   "execution_count": 101,
   "metadata": {},
   "outputs": [],
   "source": [
    "f=model.optimize()"
   ]
  },
  {
   "cell_type": "markdown",
   "metadata": {},
   "source": [
    "One can print the optimal solution value and the corresponding fluxes for all reactions from the metabolic network"
   ]
  },
  {
   "cell_type": "code",
   "execution_count": 102,
   "metadata": {},
   "outputs": [
    {
     "name": "stdout",
     "output_type": "stream",
     "text": [
      "optimal value= 10.0\n",
      "corresponding fluxes = \n",
      "R1    2.0\n",
      "R2    2.0\n",
      "R3    0.5\n",
      "R4    6.0\n",
      "R5    4.0\n",
      "R6    2.5\n",
      "R7    4.0\n",
      "Name: fluxes, dtype: float64\n"
     ]
    }
   ],
   "source": [
    "print (\"optimal value=\",f.f)\n",
    "print (\"corresponding fluxes = \")\n",
    "print(f.fluxes)"
   ]
  },
  {
   "cell_type": "markdown",
   "metadata": {},
   "source": [
    "# 3. Flux Variability Analysis\n",
    "Lets add here a little fuzzyness. For that we will explore the solutions arround 95% of the optimal solution. Via the use of summary, you will learn of the main feature of the model"
   ]
  },
  {
   "cell_type": "code",
   "execution_count": 103,
   "metadata": {},
   "outputs": [
    {
     "name": "stdout",
     "output_type": "stream",
     "text": [
      "IN FLUXES               OUT FLUXES                 OBJECTIVES\n",
      "----------------------  -------------------------  ------------\n",
      "id      Flux  Range     id      Flux  Range        R4  6\n",
      "----  ------  --------  ----  ------  -----------  R7  4\n",
      "A          6  [5.5, 6]  E        4    [3.5, 4]\n",
      "B          4  [3.5, 4]  D        2.5  [2.38, 2.5]\n"
     ]
    }
   ],
   "source": [
    "model.summary(fva=0.95)"
   ]
  },
  {
   "cell_type": "markdown",
   "metadata": {},
   "source": [
    "You can also check what is in the cellular compartment by emphasizing the flux variability for each reaction. For this, upload the whole cobra "
   ]
  },
  {
   "cell_type": "code",
   "execution_count": 104,
   "metadata": {},
   "outputs": [
    {
     "name": "stdout",
     "output_type": "stream",
     "text": [
      "    maximum  minimum\n",
      "R1    2.000    1.750\n",
      "R2    2.000    1.750\n",
      "R3    0.625    0.375\n",
      "R4    6.000    5.500\n",
      "R5    4.000    3.500\n",
      "R6    2.500    2.375\n",
      "R7    4.000    3.500\n"
     ]
    }
   ],
   "source": [
    "import cobra\n",
    "fuzzy_fva = cobra.flux_analysis.flux_variability_analysis(model, fraction_of_optimum=0.95)\n",
    "print (fuzzy_fva)"
   ]
  },
  {
   "cell_type": "markdown",
   "metadata": {},
   "source": [
    "# Lets play on a bigger and realistic model"
   ]
  },
  {
   "cell_type": "code",
   "execution_count": 113,
   "metadata": {},
   "outputs": [],
   "source": [
    "import pandas\n",
    "import cobra.test\n",
    "\n",
    "import matplotlib.pyplot as plt\n",
    "\n",
    "# You can use this model from the tutorial\n",
    "model = cobra.test.create_test_model(\"ecoli\")"
   ]
  },
  {
   "cell_type": "markdown",
   "metadata": {},
   "source": [
    "Display some information from the model"
   ]
  },
  {
   "cell_type": "code",
   "execution_count": 122,
   "metadata": {},
   "outputs": [
    {
     "name": "stdout",
     "output_type": "stream",
     "text": [
      "Number of metabolites =  1805\n",
      "Number of reactions =  2583\n"
     ]
    }
   ],
   "source": [
    "print (\"Number of metabolites = \",len(model.metabolites))\n",
    "print (\"Number of reactions = \",len(model.reactions))"
   ]
  },
  {
   "cell_type": "markdown",
   "metadata": {},
   "source": [
    "What is the objective of this bacteria?"
   ]
  },
  {
   "cell_type": "code",
   "execution_count": 115,
   "metadata": {},
   "outputs": [
    {
     "name": "stdout",
     "output_type": "stream",
     "text": [
      "Maximize\n",
      "-1.0*Ec_biomass_iJO1366_core_53p95M_reverse_e94eb + 1.0*Ec_biomass_iJO1366_core_53p95M\n"
     ]
    }
   ],
   "source": [
    "print(model.objective)"
   ]
  },
  {
   "cell_type": "markdown",
   "metadata": {},
   "source": [
    "Lets run a FBA"
   ]
  },
  {
   "cell_type": "code",
   "execution_count": 123,
   "metadata": {},
   "outputs": [
    {
     "name": "stdout",
     "output_type": "stream",
     "text": [
      "optimal biomass=  0.9823718127269693\n"
     ]
    }
   ],
   "source": [
    "f=model.optimize()\n",
    "print ('optimal biomass= ',f.f)"
   ]
  },
  {
   "cell_type": "markdown",
   "metadata": {},
   "source": [
    "### What the reactions that are used (i.e., not blocked)"
   ]
  },
  {
   "cell_type": "code",
   "execution_count": 117,
   "metadata": {},
   "outputs": [
    {
     "name": "stdout",
     "output_type": "stream",
     "text": [
      "DM_4CRSOL: 4crsol_c --> \n",
      "DM_5DRIB: 5drib_c --> \n",
      "DM_AMOB: amob_c --> \n",
      "DM_MTHTHF: mththf_c --> \n",
      "Ec_biomass_iJO1366_core_53p95M: 0.000223 10fthf_c + 2.6e-05 2fe2s_c + 0.000223 2ohph_c + 0.00026 4fe4s_c + 0.513689 ala__L_c + 0.000223 amet_c + 0.295792 arg__L_c + 0.241055 asn__L_c + 0.241055 asp__L_c + 54.124831 atp_c + 0.000122 bmocogdp_c + 2e-06 btn_c + 0.005205 ca2_c + 0.005205 cl_c + 0.000576 coa_c + 2.5e-05 cobalt2_c + 0.133508 ctp_c + 0.000709 cu2_c + 0.09158 cys__L_c + 0.026166 datp_c + 0.027017 dctp_c + 0.027017 dgtp_c + 0.026166 dttp_c + 0.000223 fad_c + 0.006715 fe2_c + 0.007808 fe3_c + 0.26316 gln__L_c + 0.26316 glu__L_c + 0.612638 gly_c + 0.215096 gtp_c + 48.601527 h2o_c + 0.094738 his__L_c + 0.290529 ile__L_c + 0.195193 k_c + 0.019456 kdo2lipid4_e + 0.450531 leu__L_c + 0.343161 lys__L_c + 0.153686 met__L_c + 0.008675 mg2_c + 0.000223 mlthf_c + 0.000691 mn2_c + 7e-06 mobd_c + 0.013894 murein5px4p_p + 0.001831 nad_c + 0.000447 nadp_c + 0.013013 nh4_c + 0.000323 ni2_c + 0.017868 pe160_c + 0.045946 pe160_p + 0.054154 pe161_c + 0.02106 pe161_p + 0.185265 phe__L_c + 0.000223 pheme_c + 0.221055 pro__L_c + 0.000223 pydx5p_c + 0.000223 ribflv_c + 0.215792 ser__L_c + 0.000223 sheme_c + 0.004338 so4_c + 0.000223 thf_c + 0.000223 thmpp_c + 0.253687 thr__L_c + 0.056843 trp__L_c + 0.137896 tyr__L_c + 5.5e-05 udcpdp_c + 0.144104 utp_c + 0.423162 val__L_c + 0.000341 zn2_c --> 53.95 adp_c + 53.95 h_c + 53.945662 pi_c + 0.773903 ppi_c\n",
      "EX_ca2_e: ca2_e <=> \n",
      "EX_cl_e: cl_e <=> \n",
      "EX_co2_e: co2_e <=> \n",
      "EX_cobalt2_e: cobalt2_e <=> \n",
      "EX_cu2_e: cu2_e <=> \n",
      "EX_fe2_e: fe2_e <=> \n",
      "EX_glc_e: glc__D_e <=> \n",
      "EX_h_e: h_e <=> \n",
      "EX_h2o_e: h2o_e <=> \n",
      "EX_k_e: k_e <=> \n",
      "EX_meoh_e: meoh_e --> \n",
      "EX_mg2_e: mg2_e <=> \n",
      "EX_mn2_e: mn2_e <=> \n",
      "EX_mobd_e: mobd_e <=> \n",
      "EX_nh4_e: nh4_e <=> \n",
      "EX_ni2_e: ni2_e <=> \n",
      "EX_o2_e: o2_e <=> \n",
      "EX_pi_e: pi_e <=> \n",
      "EX_so4_e: so4_e <=> \n",
      "EX_zn2_e: zn2_e <=> \n",
      "3OAR140: 3omrsACP_c + h_c + nadph_c <=> 3hmrsACP_c + nadp_c\n",
      "3OAS140: ddcaACP_c + h_c + malACP_c --> 3omrsACP_c + ACP_c + co2_c\n",
      "5DOAN: dad__5_c + h2o_c --> 5drib_c + ade_c\n",
      "A5PISO: ru5p__D_c <=> ara5p_c\n",
      "AACPS3: ACP_c + atp_c + hdca_c --> amp_c + palmACP_c + ppi_c\n",
      "AACPS4: ACP_c + atp_c + hdcea_c --> amp_c + hdeACP_c + ppi_c\n",
      "AACPS7: ACP_c + atp_c + ddca_c --> amp_c + ddcaACP_c + ppi_c\n",
      "ACACT1r: 2.0 accoa_c <=> aacoa_c + coa_c\n",
      "ACACT2r: accoa_c + btcoa_c <=> 3ohcoa_c + coa_c\n",
      "ACACT3r: accoa_c + hxcoa_c <=> 3oocoa_c + coa_c\n",
      "ACACT4r: accoa_c + occoa_c <=> 3odcoa_c + coa_c\n",
      "ACACT5r: accoa_c + dcacoa_c <=> 3oddcoa_c + coa_c\n",
      "ACACT6r: accoa_c + ddcacoa_c <=> 3otdcoa_c + coa_c\n",
      "ACACT7r: accoa_c + tdcoa_c <=> 3ohdcoa_c + coa_c\n",
      "ACCOAC: accoa_c + atp_c + hco3_c --> adp_c + h_c + malcoa_c + pi_c\n",
      "ACGK: acglu_c + atp_c --> acg5p_c + adp_c\n",
      "ACGS: accoa_c + glu__L_c --> acglu_c + coa_c + h_c\n",
      "ACHBS: 2obut_c + h_c + pyr_c --> 2ahbut_c + co2_c\n",
      "ACLS: h_c + 2.0 pyr_c --> alac__S_c + co2_c\n",
      "ACOAD1f: btcoa_c + fad_c <=> b2coa_c + fadh2_c\n",
      "ACOAD2f: fad_c + hxcoa_c <=> fadh2_c + hx2coa_c\n",
      "ACOAD3f: fad_c + occoa_c <=> fadh2_c + oc2coa_c\n",
      "ACOAD4f: dcacoa_c + fad_c <=> dc2coa_c + fadh2_c\n",
      "ACOAD5f: ddcacoa_c + fad_c <=> dd2coa_c + fadh2_c\n",
      "ACOAD6f: fad_c + tdcoa_c <=> fadh2_c + td2coa_c\n",
      "ACOAD7f: fad_c + pmtcoa_c <=> fadh2_c + hdd2coa_c\n",
      "ACODA: acorn_c + h2o_c --> ac_c + orn_c\n",
      "ACONTa: cit_c <=> acon__C_c + h2o_c\n",
      "ACONTb: acon__C_c + h2o_c <=> icit_c\n",
      "ACOTA: acorn_c + akg_c <=> acg5sa_c + glu__L_c\n",
      "ACPPAT160: h_c + palmACP_c + pi_c --> ACP_c + hdcap_c\n",
      "ACPPAT161: h_c + hdeACP_c + pi_c --> ACP_c + hdceap_c\n",
      "ACS: ac_c + atp_c + coa_c --> accoa_c + amp_c + ppi_c\n",
      "ACt2rpp: ac_p + h_p <=> ac_c + h_c\n",
      "ACt4pp: ac_p + na1_p --> ac_c + na1_c\n",
      "ADCL: 4adcho_c --> 4abz_c + h_c + pyr_c\n",
      "ADCS: chor_c + gln__L_c --> 4adcho_c + glu__L_c\n",
      "ADK1: amp_c + atp_c <=> 2.0 adp_c\n",
      "ADPT: ade_c + prpp_c --> amp_c + ppi_c\n",
      "ADSK: aps_c + atp_c --> adp_c + h_c + paps_c\n",
      "ADSL1r: dcamp_c <=> amp_c + fum_c\n",
      "ADSL2r: 25aics_c <=> aicar_c + fum_c\n",
      "ADSS: asp__L_c + gtp_c + imp_c --> dcamp_c + gdp_c + 2.0 h_c + pi_c\n",
      "AGPAT160: 1hdecg3p_c + palmACP_c --> ACP_c + pa160_c\n",
      "AGPAT161: 1hdec9eg3p_c + hdeACP_c --> ACP_c + pa161_c\n",
      "AGPR: acg5sa_c + nadp_c + pi_c <=> acg5p_c + h_c + nadph_c\n",
      "AHCYSNS: ahcys_c + h2o_c --> ade_c + rhcys_c\n",
      "AICART: 10fthf_c + aicar_c <=> fprica_c + thf_c\n",
      "AIRC2: air_c + atp_c + hco3_c --> 5caiz_c + adp_c + h_c + pi_c\n",
      "AIRC3: 5aizc_c <=> 5caiz_c\n",
      "AKGDH: akg_c + coa_c + nad_c --> co2_c + nadh_c + succoa_c\n",
      "ALAALAr: 2.0 ala__D_c + atp_c <=> adp_c + alaala_c + h_c + pi_c\n",
      "ALAR: ala__L_c <=> ala__D_c\n",
      "ALATA_L: akg_c + ala__L_c <=> glu__L_c + pyr_c\n",
      "AMAOTr: 8aonn_c + amet_c <=> amob_c + dann_c\n",
      "AMPMS2: air_c + h2o_c + nad_c --> 4ampm_c + 2.0 for_c + 3.0 h_c + nadh_c\n",
      "ANPRT: anth_c + prpp_c --> ppi_c + pran_c\n",
      "ANS: chor_c + gln__L_c --> anth_c + glu__L_c + h_c + pyr_c\n",
      "AOXSr2: ala__L_c + pimACP_c --> 8aonn_c + ACP_c + co2_c\n",
      "APG3PAT160: glyc3p_c + hdcap_c --> 1hdecg3p_c + h_c + pi_c\n",
      "APG3PAT161: glyc3p_c + hdceap_c --> 1hdec9eg3p_c + h_c + pi_c\n",
      "APRAUR: 5apru_c + h_c + nadph_c --> 5aprbu_c + nadp_c\n",
      "ARGSL: argsuc_c <=> arg__L_c + fum_c\n",
      "ARGSS: asp__L_c + atp_c + citr__L_c --> amp_c + argsuc_c + h_c + ppi_c\n",
      "ASAD: aspsa_c + nadp_c + pi_c <=> 4pasp_c + h_c + nadph_c\n",
      "ASNS2: asp__L_c + atp_c + nh4_c --> amp_c + asn__L_c + h_c + ppi_c\n",
      "ASP1DC: asp__L_c + h_c --> ala__B_c + co2_c\n",
      "ASPCT: asp__L_c + cbp_c --> cbasp_c + h_c + pi_c\n",
      "ASPK: asp__L_c + atp_c <=> 4pasp_c + adp_c\n",
      "ASPO6: asp__L_c + o2_c --> h2o2_c + h_c + iasp_c\n",
      "ASPTA: akg_c + asp__L_c <=> glu__L_c + oaa_c\n",
      "ATPM: atp_c + h2o_c --> adp_c + h_c + pi_c\n",
      "ATPPRT: atp_c + prpp_c --> ppi_c + prbatp_c\n",
      "ATPS4rpp: adp_c + 4.0 h_p + pi_c <=> atp_c + h2o_c + 3.0 h_c\n",
      "BMOCOS: moco_c + mptamp_c --> amp_c + bmoco_c + cu2_c\n",
      "BMOGDS1: bmoco_c + gtp_c + h_c --> bmoco1gdp_c + ppi_c\n",
      "BMOGDS2: bmoco1gdp_c + gtp_c + h_c --> bmocogdp_c + ppi_c\n",
      "BPNT: h2o_c + pap_c --> amp_c + pi_c\n",
      "BTS5: 2fe2s_c + amet_c + dtbt_c --> 2fe1s_c + btn_c + dad__5_c + h_c + met__L_c\n",
      "CA2tex: ca2_e <=> ca2_p\n",
      "CAt6pp: ca2_c + na1_p <=> ca2_p + na1_c\n",
      "CBMKr: atp_c + co2_c + nh4_c <=> adp_c + cbp_c + 2.0 h_c\n",
      "CDPMEK: 4c2me_c + atp_c --> 2p4c2me_c + adp_c + h_c\n",
      "CHORM: chor_c --> pphn_c\n",
      "CHORS: 3psme_c --> chor_c + pi_c\n",
      "CHRPL: chor_c --> 4hbz_c + pyr_c\n",
      "CLt3_2pp: 2.0 cl_p + h_c --> 2.0 cl_c + h_p\n",
      "CLtex: cl_e <=> cl_p\n",
      "CO2tex: co2_e <=> co2_p\n",
      "CO2tpp: co2_p <=> co2_c\n",
      "COBALT2tex: cobalt2_e <=> cobalt2_p\n",
      "COBALT2tpp: cobalt2_p --> cobalt2_c\n",
      "CPMPS: gtp_c + h2o_c --> cpmp_c + ppi_c\n",
      "CPPPGO: cpppg3_c + 2.0 h_c + o2_c --> 2.0 co2_c + 2.0 h2o_c + pppg9_c\n",
      "CS: accoa_c + h2o_c + oaa_c --> cit_c + coa_c + h_c\n",
      "CTECOAI7: hdcoa_c <=> hdd2coa_c\n",
      "CTPS2: atp_c + gln__L_c + h2o_c + utp_c --> adp_c + ctp_c + glu__L_c + 2.0 h_c + pi_c\n",
      "CU2tex: cu2_e <=> cu2_p\n",
      "CU2tpp: cu2_p --> cu2_c\n",
      "CYSS: acser_c + h2s_c --> ac_c + cys__L_c + h_c\n",
      "CYSTL: cyst__L_c + h2o_c --> hcys__L_c + nh4_c + pyr_c\n",
      "CYTBO3_4pp: 4.0 h_c + 0.5 o2_c + q8h2_c --> h2o_c + 4.0 h_p + q8_c\n",
      "CYTK1: atp_c + cmp_c <=> adp_c + cdp_c\n",
      "DALAt2pp: ala__D_p + h_p --> ala__D_c + h_c\n",
      "DAPDC: 26dap__M_c + h_c --> co2_c + lys__L_c\n",
      "DAPE: 26dap__LL_c <=> 26dap__M_c\n",
      "DASYN160: ctp_c + h_c + pa160_c --> cdpdhdecg_c + ppi_c\n",
      "DASYN161: ctp_c + h_c + pa161_c --> cdpdhdec9eg_c + ppi_c\n",
      "DB4PS: ru5p__D_c --> db4p_c + for_c + h_c\n",
      "DBTS: atp_c + co2_c + dann_c --> adp_c + dtbt_c + 3.0 h_c + pi_c\n",
      "DDPA: e4p_c + h2o_c + pep_c --> 2dda7p_c + pi_c\n",
      "DHAD1: 23dhmb_c --> 3mob_c + h2o_c\n",
      "DHAD2: 23dhmp_c --> 3mop_c + h2o_c\n",
      "DHAPT: dha_c + pep_c --> dhap_c + pyr_c\n",
      "DHDPRy: 23dhdp_c + h_c + nadph_c --> nadp_c + thdp_c\n",
      "DHDPS: aspsa_c + pyr_c --> 23dhdp_c + 2.0 h2o_c + h_c\n",
      "DHFR: dhf_c + h_c + nadph_c <=> nadp_c + thf_c\n",
      "DHFS: atp_c + dhpt_c + glu__L_c --> adp_c + dhf_c + h_c + pi_c\n",
      "DHNPA2r: dhnpt_c <=> 6hmhpt_c + gcald_c\n",
      "DHORD2: dhor__S_c + q8_c --> orot_c + q8h2_c\n",
      "DHORTS: dhor__S_c + h2o_c <=> cbasp_c + h_c\n",
      "DHPPDA2: 25drapp_c + h2o_c + h_c --> 5apru_c + nh4_c\n",
      "DHPS2: 4abz_c + 6hmhptpp_c --> dhpt_c + ppi_c\n",
      "DHPTDCs2: dhptd_c --> mdhdhf_c\n",
      "DHQS: 2dda7p_c --> 3dhq_c + pi_c\n",
      "DHQTi: 3dhq_c --> 3dhsk_c + h2o_c\n",
      "DMATT: dmpp_c + ipdp_c --> grdp_c + ppi_c\n",
      "DMPPS: h2mb4p_c + h_c + nadh_c --> dmpp_c + h2o_c + nad_c\n",
      "DNMPPA: dhpmp_c + h2o_c --> dhnpt_c + pi_c\n",
      "DNTPPA: ahdt_c + h2o_c --> dhpmp_c + h_c + ppi_c\n",
      "DPCOAK: atp_c + dpcoa_c --> adp_c + coa_c + h_c\n",
      "DPR: 2dhp_c + h_c + nadph_c --> nadp_c + pant__R_c\n",
      "DTMPK: atp_c + dtmp_c <=> adp_c + dtdp_c\n",
      "DUTPDP: dutp_c + h2o_c --> dump_c + h_c + ppi_c\n",
      "DXPRIi: dxyl5p_c + h_c + nadph_c --> 2me4p_c + nadp_c\n",
      "DXPS: g3p_c + h_c + pyr_c --> co2_c + dxyl5p_c\n",
      "E4PD: e4p_c + h2o_c + nad_c <=> 4per_c + 2.0 h_c + nadh_c\n",
      "ECOAH1: 3hbcoa_c <=> b2coa_c + h2o_c\n",
      "ECOAH2: 3hhcoa_c <=> h2o_c + hx2coa_c\n",
      "ECOAH3: 3hocoa_c <=> h2o_c + oc2coa_c\n",
      "ECOAH4: 3hdcoa_c <=> dc2coa_c + h2o_c\n",
      "ECOAH5: 3hddcoa_c <=> dd2coa_c + h2o_c\n",
      "ECOAH6: 3htdcoa_c <=> h2o_c + td2coa_c\n",
      "ECOAH7: 3hhdcoa_c <=> h2o_c + hdd2coa_c\n",
      "EGMEACPR: egmeACP_c + h_c + nadph_c --> gmeACP_c + nadp_c\n",
      "ENO: 2pg_c <=> h2o_c + pep_c\n",
      "EPMEACPR: epmeACP_c + h_c + nadph_c --> nadp_c + pmeACP_c\n",
      "F6PA: f6p_c <=> dha_c + g3p_c\n",
      "FACOAE120: ddcacoa_c + h2o_c --> coa_c + ddca_c + h_c\n",
      "FACOAE160: h2o_c + pmtcoa_c --> coa_c + h_c + hdca_c\n",
      "FACOAE161: h2o_c + hdcoa_c --> coa_c + h_c + hdcea_c\n",
      "FADRx: fad_c + h_c + nadh_c --> fadh2_c + nad_c\n",
      "FBA: fdp_c <=> dhap_c + g3p_c\n",
      "FBA3: s17bp_c <=> dhap_c + e4p_c\n",
      "FCLT: fe2_c + ppp9_c --> 2.0 h_c + pheme_c\n",
      "FE2tex: fe2_e <=> fe2_p\n",
      "FE2tpp: fe2_p --> fe2_c\n",
      "FESD1s: 2.0 4fe4s_c + h2o2_c + 2.0 h_c --> 2.0 3fe4s_c + 2.0 fe3_c + 2.0 h2o_c\n",
      "FESR: 3fe4s_c + fe2_c --> 4fe4s_c\n",
      "FMNAT: atp_c + fmn_c + h_c --> fad_c + ppi_c\n",
      "FUM: fum_c + h2o_c <=> mal__L_c\n",
      "G1PACT: accoa_c + gam1p_c --> acgam1p_c + coa_c + h_c\n",
      "G1SAT: glu1sa_c <=> 5aop_c\n",
      "G3PD2: glyc3p_c + nadp_c <=> dhap_c + h_c + nadph_c\n",
      "G5SADs: glu5sa_c --> 1pyr5c_c + h2o_c + h_c\n",
      "G5SD: glu5p_c + h_c + nadph_c --> glu5sa_c + nadp_c + pi_c\n",
      "G6PDH2r: g6p_c + nadp_c <=> 6pgl_c + h_c + nadph_c\n",
      "GAPD: g3p_c + nad_c + pi_c <=> 13dpg_c + h_c + nadh_c\n",
      "GARFT: 10fthf_c + gar_c <=> fgam_c + h_c + thf_c\n",
      "GART: atp_c + for_c + gar_c --> adp_c + fgam_c + h_c + pi_c\n",
      "GCALDD: gcald_c + h2o_c + nad_c --> glyclt_c + 2.0 h_c + nadh_c\n",
      "GF6PTA: f6p_c + gln__L_c --> gam6p_c + glu__L_c\n",
      "GHMT2r: ser__L_c + thf_c <=> gly_c + h2o_c + mlthf_c\n",
      "GK1: atp_c + gmp_c <=> adp_c + gdp_c\n",
      "GLCptspp: glc__D_p + pep_c --> g6p_c + pyr_c\n",
      "GLCtex: glc__D_e <=> glc__D_p\n",
      "GLNS: atp_c + glu__L_c + nh4_c --> adp_c + gln__L_c + h_c + pi_c\n",
      "GLU5K: atp_c + glu__L_c --> adp_c + glu5p_c\n",
      "GLUDy: glu__L_c + h2o_c + nadp_c <=> akg_c + h_c + nadph_c + nh4_c\n",
      "GLUPRT: gln__L_c + h2o_c + prpp_c --> glu__L_c + ppi_c + pram_c\n",
      "GLUR: glu__D_c <=> glu__L_c\n",
      "GLUTRR: glutrna_c + h_c + nadph_c --> glu1sa_c + nadp_c + trnaglu_c\n",
      "GLUTRS: atp_c + glu__L_c + trnaglu_c --> amp_c + glutrna_c + ppi_c\n",
      "GLYCL: gly_c + nad_c + thf_c --> co2_c + mlthf_c + nadh_c + nh4_c\n",
      "GLYCTO2: glyclt_c + q8_c --> glx_c + q8h2_c\n",
      "GMPS2: atp_c + gln__L_c + h2o_c + xmp_c --> amp_c + glu__L_c + gmp_c + 2.0 h_c + ppi_c\n",
      "GND: 6pgc_c + nadp_c --> co2_c + nadph_c + ru5p__D_c\n",
      "GRTT: grdp_c + ipdp_c --> frdp_c + ppi_c\n",
      "GTPCI: gtp_c + h2o_c --> ahdt_c + for_c + h_c\n",
      "GTPCII2: gtp_c + 3.0 h2o_c --> 25drapp_c + for_c + 2.0 h_c + ppi_c\n",
      "H2Otex: h2o_e <=> h2o_p\n",
      "H2Otpp: h2o_p <=> h2o_c\n",
      "HACD1: aacoa_c + h_c + nadh_c <=> 3hbcoa_c + nad_c\n",
      "HACD2: 3ohcoa_c + h_c + nadh_c <=> 3hhcoa_c + nad_c\n",
      "HACD3: 3oocoa_c + h_c + nadh_c <=> 3hocoa_c + nad_c\n",
      "HACD4: 3odcoa_c + h_c + nadh_c <=> 3hdcoa_c + nad_c\n",
      "HACD5: 3oddcoa_c + h_c + nadh_c <=> 3hddcoa_c + nad_c\n",
      "HACD6: 3otdcoa_c + h_c + nadh_c <=> 3htdcoa_c + nad_c\n",
      "HACD7: 3ohdcoa_c + h_c + nadh_c <=> 3hhdcoa_c + nad_c\n",
      "HBZOPT: 4hbz_c + octdp_c --> 3ophb_c + ppi_c\n",
      "HCO3E: co2_c + h2o_c <=> h_c + hco3_c\n",
      "HISTD: h2o_c + histd_c + 2.0 nad_c --> 3.0 h_c + his__L_c + 2.0 nadh_c\n",
      "HISTP: h2o_c + hisp_c --> histd_c + pi_c\n",
      "HMBS: h2o_c + 4.0 ppbng_c --> hmbil_c + 4.0 nh4_c\n",
      "HPPK2: 6hmhpt_c + atp_c --> 6hmhptpp_c + amp_c + h_c\n",
      "HSDy: hom__L_c + nadp_c <=> aspsa_c + h_c + nadph_c\n",
      "HSK: atp_c + hom__L_c --> adp_c + h_c + phom_c\n",
      "HSST: hom__L_c + succoa_c --> coa_c + suchms_c\n",
      "HSTPT: glu__L_c + imacp_c --> akg_c + hisp_c\n",
      "Htex: h_e <=> h_p\n",
      "I2FE2SR: 2fe1s_c + iscssh_c + iscu_c --> 4.0 h_c + iscs_c + iscu__2fe2s_c\n",
      "I2FE2SS: fadh2_c + 2.0 fe2_c + 2.0 iscssh_c + iscu_c --> fad_c + 6.0 h_c + 2.0 iscs_c + iscu__2fe2s_c\n",
      "I2FE2SS2: fadh2_c + 2.0 fe2_c + 2.0 iscssh_c + iscu__2fe2s_c --> fad_c + 6.0 h_c + 2.0 iscs_c + iscu__2fe2s2_c\n",
      "I2FE2ST: 4.0 h_c + iscu__2fe2s_c --> 2fe2s_c + iscu_c\n",
      "I4FE4SR: fadh2_c + 2.0 h_c + iscu__2fe2s2_c --> fad_c + iscu__4fe4s_c\n",
      "I4FE4ST: 4.0 h_c + iscu__4fe4s_c --> 4fe4s_c + iscu_c\n",
      "ICDHyr: icit_c + nadp_c <=> akg_c + co2_c + nadph_c\n",
      "ICYSDS: cys__L_c + iscs_c --> ala__L_c + iscssh_c\n",
      "IG3PS: gln__L_c + prlp_c --> aicar_c + eig3p_c + glu__L_c + h_c\n",
      "IGPDH: eig3p_c --> h2o_c + imacp_c\n",
      "IGPS: 2cpr5p_c + h_c --> 3ig3p_c + co2_c + h2o_c\n",
      "ILETA: akg_c + ile__L_c <=> 3mop_c + glu__L_c\n",
      "IMPC: h2o_c + imp_c <=> fprica_c\n",
      "IMPD: h2o_c + imp_c + nad_c --> h_c + nadh_c + xmp_c\n",
      "IPDPS: h2mb4p_c + h_c + nadh_c --> h2o_c + ipdp_c + nad_c\n",
      "IPMD: 3c2hmp_c + nad_c --> 3c4mop_c + h_c + nadh_c\n",
      "IPPMIa: 3c2hmp_c <=> 2ippm_c + h2o_c\n",
      "IPPMIb: 2ippm_c + h2o_c <=> 3c3hmp_c\n",
      "IPPS: 3mob_c + accoa_c + h2o_c --> 3c3hmp_c + coa_c + h_c\n",
      "K2L4Aabcpp: atp_c + h2o_c + kdo2lipid4_c --> adp_c + h_c + kdo2lipid4_p + pi_c\n",
      "K2L4Aabctex: atp_c + h2o_c + kdo2lipid4_p --> adp_c + h_c + kdo2lipid4_e + pi_c\n",
      "KARA1: 23dhmb_c + nadp_c <=> alac__S_c + h_c + nadph_c\n",
      "KARA2: 2ahbut_c + h_c + nadph_c <=> 23dhmp_c + nadp_c\n",
      "KDOCT2: ctp_c + kdo_c --> ckdo_c + ppi_c\n",
      "KDOPP: h2o_c + kdo8p_c --> kdo_c + pi_c\n",
      "KDOPS: ara5p_c + h2o_c + pep_c --> kdo8p_c + pi_c\n",
      "Kt2pp: h_p + k_p --> h_c + k_c\n",
      "Ktex: k_e <=> k_p\n",
      "LEUTAi: 4mop_c + glu__L_c --> akg_c + leu__L_c\n",
      "LPADSS: lipidX_c + u23ga_c --> h_c + lipidAds_c + udp_c\n",
      "MALCOAMT: amet_c + malcoa_c --> ahcys_c + malcoame_c\n",
      "MALS: accoa_c + glx_c + h2o_c --> coa_c + h_c + mal__L_c\n",
      "MCOATA: ACP_c + malcoa_c <=> coa_c + malACP_c\n",
      "MCTP1App: murein5p5p_p --> ala__D_p + murein5px4p_p\n",
      "MDH: mal__L_c + nad_c <=> h_c + nadh_c + oaa_c\n",
      "MECDPDH5: 2mecdp_c + 2.0 flxr_c + h_c --> 2.0 flxso_c + h2mb4p_c + h2o_c\n",
      "MECDPS: 2p4c2me_c --> 2mecdp_c + cmp_c\n",
      "MEOHtex: meoh_e <=> meoh_p\n",
      "MEOHtrpp: meoh_p <=> meoh_c\n",
      "MEPCT: 2me4p_c + ctp_c + h_c --> 4c2me_c + ppi_c\n",
      "METAT: atp_c + h2o_c + met__L_c --> amet_c + pi_c + ppi_c\n",
      "METS: 5mthf_c + hcys__L_c --> h_c + met__L_c + thf_c\n",
      "MG2t3_2pp: 2.0 h_c + mg2_p <=> 2.0 h_p + mg2_c\n",
      "MG2tex: mg2_e <=> mg2_p\n",
      "MN2tpp: mn2_p --> mn2_c\n",
      "MNtex: mn2_e <=> mn2_p\n",
      "MOADSUx: iscssh_c + moadamp_c + nadh_c --> amp_c + iscs_c + moadcosh_c + nad_c\n",
      "MOAT: ckdo_c + lipidA_c --> cmp_c + h_c + kdolipid4_c\n",
      "MOAT2: ckdo_c + kdolipid4_c --> cmp_c + h_c + kdo2lipid4_c\n",
      "MOBDabcpp: atp_c + h2o_c + mobd_p --> adp_c + h_c + mobd_c + pi_c\n",
      "MOBDtex: mobd_e <=> mobd_p\n",
      "MOCOS: 2.0 h_c + mobd_c + mptamp_c --> amp_c + cu2_c + h2o_c + moco_c\n",
      "MOHMT: 3mob_c + h2o_c + mlthf_c --> 2dhp_c + thf_c\n",
      "MOX: mal__L_c + o2_c <=> h2o2_c + oaa_c\n",
      "MPTAT: atp_c + h_c + mpt_c --> mptamp_c + ppi_c\n",
      "MPTG: 2.0 uaagmda_c --> 2.0 h_c + murein5p5p_p + 2.0 udcpdp_c\n",
      "MPTS: cpmp_c + cu2_c + 2.0 moadcosh_c --> 5.0 h_c + 2.0 moadcoo_c + mpt_c\n",
      "MPTSS: atp_c + h_c + moadcoo_c --> moadamp_c + ppi_c\n",
      "MTHFC: h2o_c + methf_c <=> 10fthf_c + h_c\n",
      "MTHFD: mlthf_c + nadp_c <=> methf_c + nadph_c\n",
      "MTHFR2: 2.0 h_c + mlthf_c + nadh_c --> 5mthf_c + nad_c\n",
      "MTHTHFSs: h2o_c + mdhdhf_c --> mththf_c\n",
      "NADH16pp: 4.0 h_c + nadh_c + q8_c --> 3.0 h_p + nad_c + q8h2_c\n",
      "NADK: atp_c + nad_c --> adp_c + h_c + nadp_c\n",
      "NADS1: atp_c + dnad_c + nh4_c --> amp_c + h_c + nad_c + ppi_c\n",
      "NDPK1: atp_c + gdp_c <=> adp_c + gtp_c\n",
      "NDPK2: atp_c + udp_c <=> adp_c + utp_c\n",
      "NDPK3: atp_c + cdp_c <=> adp_c + ctp_c\n",
      "NDPK4: atp_c + dtdp_c <=> adp_c + dttp_c\n",
      "NH4tex: nh4_e <=> nh4_p\n",
      "NH4tpp: nh4_p <=> nh4_c\n",
      "NI2tex: ni2_e <=> ni2_p\n",
      "NI2tpp: ni2_p --> ni2_c\n",
      "NNATr: atp_c + h_c + nicrnt_c <=> dnad_c + ppi_c\n",
      "NNDPR: 2.0 h_c + prpp_c + quln_c --> co2_c + nicrnt_c + ppi_c\n",
      "O2tex: o2_e <=> o2_p\n",
      "O2tpp: o2_p <=> o2_c\n",
      "OCBT: cbp_c + orn_c <=> citr__L_c + h_c + pi_c\n",
      "OCTDPS: frdp_c + 5.0 ipdp_c --> octdp_c + 5.0 ppi_c\n",
      "OGMEACPD: hgmeACP_c --> egmeACP_c + h2o_c\n",
      "OGMEACPR: h_c + nadph_c + ogmeACP_c --> hgmeACP_c + nadp_c\n",
      "OGMEACPS: h_c + malACP_c + malcoame_c --> co2_c + coa_c + ogmeACP_c\n",
      "OHPBAT: glu__L_c + ohpb_c <=> akg_c + phthr_c\n",
      "OMCDC: 3c4mop_c + h_c --> 4mop_c + co2_c\n",
      "OMPDC: h_c + orot5p_c --> co2_c + ump_c\n",
      "OPHBDC: 3ophb_c + h_c --> 2oph_c + co2_c\n",
      "OPHHX: 2oph_c + 0.5 o2_c --> 2ohph_c\n",
      "OPMEACPD: hpmeACP_c --> epmeACP_c + h2o_c\n",
      "OPMEACPR: h_c + nadph_c + opmeACP_c --> hpmeACP_c + nadp_c\n",
      "OPMEACPS: gmeACP_c + h_c + malACP_c --> ACP_c + co2_c + opmeACP_c\n",
      "ORPT: orot5p_c + ppi_c <=> orot_c + prpp_c\n",
      "P5CR: 1pyr5c_c + 2.0 h_c + nadph_c --> nadp_c + pro__L_c\n",
      "PANTS: ala__B_c + atp_c + pant__R_c --> amp_c + h_c + pnto__R_c + ppi_c\n",
      "PAPPT3: udcpp_c + ugmda_c --> uagmda_c + ump_c\n",
      "PAPSR: paps_c + trdrd_c --> 2.0 h_c + pap_c + so3_c + trdox_c\n",
      "PDH: coa_c + nad_c + pyr_c --> accoa_c + co2_c + nadh_c\n",
      "PDX5POi: o2_c + pdx5p_c --> h2o2_c + pydx5p_c\n",
      "PDX5PS: dxyl5p_c + nad_c + phthr_c --> co2_c + 2.0 h2o_c + h_c + nadh_c + pdx5p_c + pi_c\n",
      "PE160abcpp: atp_c + h2o_c + pe160_c --> adp_c + h_c + pe160_p + pi_c\n",
      "PE161abcpp: atp_c + h2o_c + pe161_c --> adp_c + h_c + pe161_p + pi_c\n",
      "PERD: 4per_c + nad_c <=> h_c + nadh_c + ohpb_c\n",
      "PFK: atp_c + f6p_c --> adp_c + fdp_c + h_c\n",
      "PFK_3: atp_c + s7p_c --> adp_c + h_c + s17bp_c\n",
      "PGAMT: gam1p_c <=> gam6p_c\n",
      "PGCD: 3pg_c + nad_c --> 3php_c + h_c + nadh_c\n",
      "PGI: g6p_c <=> f6p_c\n",
      "PGK: 3pg_c + atp_c <=> 13dpg_c + adp_c\n",
      "PGL: 6pgl_c + h2o_c --> 6pgc_c + h_c\n",
      "PGM: 2pg_c <=> 3pg_c\n",
      "PHETA1: akg_c + phe__L_c <=> glu__L_c + phpyr_c\n",
      "PIt2rpp: h_p + pi_p <=> h_c + pi_c\n",
      "PItex: pi_e <=> pi_p\n",
      "PMDPHT: 5aprbu_c + h2o_c --> 4r5au_c + pi_c\n",
      "PMEACPE: h2o_c + pmeACP_c --> meoh_c + pimACP_c\n",
      "PMPK: 4ampm_c + atp_c --> 2mahmp_c + adp_c\n",
      "PNTK: atp_c + pnto__R_c --> 4ppan_c + adp_c + h_c\n",
      "POR5: coa_c + 2.0 flxso_c + pyr_c <=> accoa_c + co2_c + 2.0 flxr_c + h_c\n",
      "PPBNGS: 2.0 5aop_c --> 2.0 h2o_c + h_c + ppbng_c\n",
      "PPC: co2_c + h2o_c + pep_c --> h_c + oaa_c + pi_c\n",
      "PPCDC: 4ppcys_c + h_c --> co2_c + pan4p_c\n",
      "PPKr: atp_c + pi_c <=> adp_c + ppi_c\n",
      "PPNCL2: 4ppan_c + ctp_c + cys__L_c --> 4ppcys_c + cmp_c + h_c + ppi_c\n",
      "PPND: nad_c + pphn_c --> 34hpp_c + co2_c + nadh_c\n",
      "PPNDH: h_c + pphn_c --> co2_c + h2o_c + phpyr_c\n",
      "PPPGO3: 3.0 fum_c + pppg9_c --> ppp9_c + 3.0 succ_c\n",
      "PRAGSr: atp_c + gly_c + pram_c <=> adp_c + gar_c + h_c + pi_c\n",
      "PRAIS: atp_c + fpram_c --> adp_c + air_c + 2.0 h_c + pi_c\n",
      "PRAIi: pran_c --> 2cpr5p_c\n",
      "PRAMPC: h2o_c + prbamp_c --> prfp_c\n",
      "PRASCSi: 5aizc_c + asp__L_c + atp_c --> 25aics_c + adp_c + h_c + pi_c\n",
      "PRATPP: h2o_c + prbatp_c --> h_c + ppi_c + prbamp_c\n",
      "PRFGS: atp_c + fgam_c + gln__L_c + h2o_c --> adp_c + fpram_c + glu__L_c + h_c + pi_c\n",
      "PRMICI: prfp_c <=> prlp_c\n",
      "PRPPS: atp_c + r5p_c <=> amp_c + h_c + prpp_c\n",
      "PSCVT: pep_c + skm5p_c <=> 3psme_c + pi_c\n",
      "PSD160: h_c + ps160_c --> co2_c + pe160_c\n",
      "PSD161: h_c + ps161_c --> co2_c + pe161_c\n",
      "PSERT: 3php_c + glu__L_c --> akg_c + pser__L_c\n",
      "PSP_L: h2o_c + pser__L_c --> pi_c + ser__L_c\n",
      "PSSA160: cdpdhdecg_c + ser__L_c --> cmp_c + h_c + ps160_c\n",
      "PSSA161: cdpdhdec9eg_c + ser__L_c --> cmp_c + h_c + ps161_c\n",
      "PTPATi: atp_c + h_c + pan4p_c --> dpcoa_c + ppi_c\n",
      "QULNS: dhap_c + iasp_c --> 2.0 h2o_c + pi_c + quln_c\n",
      "RBFK: atp_c + ribflv_c --> adp_c + fmn_c + h_c\n",
      "RBFSa: 4r5au_c + db4p_c --> dmlz_c + 2.0 h2o_c + pi_c\n",
      "RBFSb: 2.0 dmlz_c --> 4r5au_c + ribflv_c\n",
      "RHCCE: rhcys_c --> dhptd_c + hcys__L_c\n",
      "RNTR1c2: atp_c + 2.0 flxr_c + 2.0 h_c --> datp_c + 2.0 flxso_c + h2o_c\n",
      "RNTR2c2: 2.0 flxr_c + gtp_c + 2.0 h_c --> dgtp_c + 2.0 flxso_c + h2o_c\n",
      "RNTR3c2: ctp_c + 2.0 flxr_c + 2.0 h_c --> dctp_c + 2.0 flxso_c + h2o_c\n",
      "RNTR4c2: 2.0 flxr_c + 2.0 h_c + utp_c --> dutp_c + 2.0 flxso_c + h2o_c\n",
      "RPE: ru5p__D_c <=> xu5p__D_c\n",
      "RPI: r5p_c <=> ru5p__D_c\n",
      "SADT2: atp_c + gtp_c + h2o_c + so4_c --> aps_c + gdp_c + pi_c + ppi_c\n",
      "SDPDS: h2o_c + sl26da_c --> 26dap__LL_c + succ_c\n",
      "SDPTA: akg_c + sl26da_c <=> glu__L_c + sl2a6o_c\n",
      "SERAT: accoa_c + ser__L_c <=> acser_c + coa_c\n",
      "SHCHD2: dscl_c + nad_c --> h_c + nadh_c + scl_c\n",
      "SHCHF: fe2_c + scl_c --> 3.0 h_c + sheme_c\n",
      "SHK3Dr: 3dhsk_c + h_c + nadph_c <=> nadp_c + skm_c\n",
      "SHKK: atp_c + skm_c --> adp_c + h_c + skm5p_c\n",
      "SHSL1: cys__L_c + suchms_c --> cyst__L_c + h_c + succ_c\n",
      "SO4t2pp: h_p + so4_p --> h_c + so4_c\n",
      "SO4tex: so4_e <=> so4_p\n",
      "SUCDi: q8_c + succ_c --> fum_c + q8h2_c\n",
      "SUCOAS: atp_c + coa_c + succ_c <=> adp_c + pi_c + succoa_c\n",
      "SULRi: 5.0 h_c + 3.0 nadph_c + so3_c --> 3.0 h2o_c + h2s_c + 3.0 nadp_c\n",
      "TDSK: atp_c + lipidAds_c --> adp_c + h_c + lipidA_c\n",
      "THDPS: h2o_c + succoa_c + thdp_c --> coa_c + sl2a6o_c\n",
      "THRD_L: thr__L_c --> 2obut_c + nh4_c\n",
      "THRS: h2o_c + phom_c --> pi_c + thr__L_c\n",
      "THZPSN3: atp_c + dhgly_c + dxyl5p_c + h_c + iscssh_c + nadph_c --> 4mpetz_c + amp_c + co2_c + 2.0 h2o_c + iscs_c + nadp_c + ppi_c\n",
      "TKT1: r5p_c + xu5p__D_c <=> g3p_c + s7p_c\n",
      "TKT2: e4p_c + xu5p__D_c <=> f6p_c + g3p_c\n",
      "TMDS: dump_c + mlthf_c --> dhf_c + dtmp_c\n",
      "TMPK: atp_c + thmmp_c --> adp_c + thmpp_c\n",
      "TMPPP: 2mahmp_c + 4mpetz_c + h_c --> ppi_c + thmmp_c\n",
      "TPI: dhap_c <=> g3p_c\n",
      "TRDR: h_c + nadph_c + trdox_c --> nadp_c + trdrd_c\n",
      "TRPAS2: h2o_c + trp__L_c <=> indole_c + nh4_c + pyr_c\n",
      "TRPS3: 3ig3p_c --> g3p_c + indole_c\n",
      "TYRL: amet_c + nadph_c + tyr__L_c --> 4crsol_c + dad__5_c + dhgly_c + h_c + met__L_c + nadp_c\n",
      "TYRTA: akg_c + tyr__L_c <=> 34hpp_c + glu__L_c\n",
      "U23GAAT: 3hmrsACP_c + u3hga_c --> ACP_c + h_c + u23ga_c\n",
      "UAAGDS: 26dap__M_c + atp_c + uamag_c --> adp_c + h_c + pi_c + ugmd_c\n",
      "UAGAAT: 3hmrsACP_c + uacgam_c <=> ACP_c + u3aga_c\n",
      "UAGCVT: pep_c + uacgam_c --> pi_c + uaccg_c\n",
      "UAGDP: acgam1p_c + h_c + utp_c --> ppi_c + uacgam_c\n",
      "UAGPT3: uacgam_c + uagmda_c --> h_c + uaagmda_c + udp_c\n",
      "UAMAGS: atp_c + glu__D_c + uama_c --> adp_c + h_c + pi_c + uamag_c\n",
      "UAMAS: ala__L_c + atp_c + uamr_c --> adp_c + h_c + pi_c + uama_c\n",
      "UAPGR: h_c + nadph_c + uaccg_c --> nadp_c + uamr_c\n",
      "UDCPDP: h2o_c + udcpdp_c --> h_c + pi_c + udcpp_c\n",
      "UDCPDPS: frdp_c + 8.0 ipdp_c --> 8.0 ppi_c + udcpdp_c\n",
      "UGMDDS: alaala_c + atp_c + ugmd_c --> adp_c + h_c + pi_c + ugmda_c\n",
      "UHGADA: h2o_c + u3aga_c --> ac_c + u3hga_c\n",
      "UMPK: atp_c + ump_c <=> adp_c + udp_c\n",
      "UPP3MT: 2.0 amet_c + uppg3_c --> 2.0 ahcys_c + dscl_c + h_c\n",
      "UPP3S: hmbil_c --> h2o_c + uppg3_c\n",
      "UPPDC1: 4.0 h_c + uppg3_c --> 4.0 co2_c + cpppg3_c\n",
      "USHD: h2o_c + u23ga_c --> 2.0 h_c + lipidX_c + ump_c\n",
      "VPAMTr: 3mob_c + ala__L_c <=> pyr_c + val__L_c\n",
      "ZN2tpp: zn2_p --> zn2_c\n",
      "Zn2tex: zn2_e <=> zn2_p\n"
     ]
    }
   ],
   "source": [
    "for i in range(len(f.fluxes)):\n",
    "    if f.fluxes[i] != 0.0:\n",
    "        print (model.reactions[i])"
   ]
  },
  {
   "cell_type": "markdown",
   "metadata": {},
   "source": [
    "## Study the effect of changing the amount of glucose\n",
    "One will simulate the change of glucose uptake capacity. In this purpose, we must *decrease* the lower bound of the reaction that takes glucose from the environment (i.e., reaction *EX_glc_e*)"
   ]
  },
  {
   "cell_type": "code",
   "execution_count": 120,
   "metadata": {},
   "outputs": [
    {
     "name": "stdout",
     "output_type": "stream",
     "text": [
      "9.941304113720298\n",
      "8.945867191387668\n",
      "7.950430269055091\n",
      "6.954993346722492\n",
      "5.959556424389902\n",
      "4.964119502057347\n",
      "3.968682579724738\n",
      "2.973245657392148\n",
      "1.977808735059558\n",
      "0.9823718127269693\n"
     ]
    }
   ],
   "source": [
    "T = [];\n",
    "for i in range(0,10):\n",
    "    model.reactions.get_by_id('EX_glc_e').lower_bound= -100+i*10\n",
    "    f=model.optimize()\n",
    "    print(f.f)\n",
    "    T.append(f.f)"
   ]
  },
  {
   "cell_type": "code",
   "execution_count": 121,
   "metadata": {},
   "outputs": [
    {
     "data": {
      "text/plain": [
       "Text(0.5,0,'Glucose uptake')"
      ]
     },
     "execution_count": 121,
     "metadata": {},
     "output_type": "execute_result"
    },
    {
     "data": {
      "image/png": "[encoded data removed]",
      "text/plain": [
       "<Figure size 432x288 with 1 Axes>"
      ]
     },
     "metadata": {},
     "output_type": "display_data"
    }
   ],
   "source": [
    "plt.plot(T,'or')\n",
    "plt.ylabel('Biomass') \n",
    "plt.xlabel('Glucose uptake')"
   ]
  },
  {
   "cell_type": "code",
   "execution_count": 67,
   "metadata": {},
   "outputs": [
    {
     "name": "stdout",
     "output_type": "stream",
     "text": [
      "                    maximum       minimum\n",
      "12DGR120tipp   1.176225e-11  0.000000e+00\n",
      "12DGR140tipp   1.176225e-11  0.000000e+00\n",
      "12DGR141tipp   1.176225e-11  0.000000e+00\n",
      "12DGR160tipp   1.176225e-11  0.000000e+00\n",
      "12DGR161tipp   1.176225e-11  0.000000e+00\n",
      "12DGR180tipp   1.176225e-11  0.000000e+00\n",
      "12DGR181tipp   1.176225e-11  0.000000e+00\n",
      "12PPDRtex      0.000000e+00  1.189553e-12\n",
      "12PPDRtpp      0.000000e+00  1.189553e-12\n",
      "12PPDStex      0.000000e+00  1.170520e-12\n",
      "12PPDStpp      0.000000e+00  1.170520e-12\n",
      "14GLUCANabcpp  0.000000e+00  0.000000e+00\n",
      "14GLUCANtexi   0.000000e+00  1.252697e-13\n",
      "23CAMPtex      0.000000e+00  0.000000e+00\n",
      "23CCMPtex      0.000000e+00  0.000000e+00\n",
      "23CGMPtex      0.000000e+00  0.000000e+00\n",
      "23CUMPtex      0.000000e+00  0.000000e+00\n",
      "23DAPPAt2pp    0.000000e+00  0.000000e+00\n",
      "23DAPPAtex     0.000000e+00  0.000000e+00\n",
      "23PDE2pp       0.000000e+00  0.000000e+00\n",
      "23PDE4pp       0.000000e+00  0.000000e+00\n",
      "23PDE7pp       0.000000e+00  0.000000e+00\n",
      "23PDE9pp       0.000000e+00  0.000000e+00\n",
      "26DAHtex       0.000000e+00  0.000000e+00\n",
      "2AGPA120tipp   6.227071e-12  0.000000e+00\n",
      "2AGPA140tipp   9.623655e-12  0.000000e+00\n",
      "2AGPA141tipp   8.468817e-12  0.000000e+00\n",
      "2AGPA160tipp   9.623655e-12  0.000000e+00\n",
      "2AGPA161tipp   9.623655e-12  0.000000e+00\n",
      "2AGPA180tipp   1.176225e-11  0.000000e+00\n",
      "...                     ...           ...\n",
      "VALTRS         0.000000e+00  0.000000e+00\n",
      "VALabcpp      -1.278671e-10  0.000000e+00\n",
      "VALt2rpp       0.000000e+00 -1.171666e-11\n",
      "VALtex         0.000000e+00 -3.905555e-13\n",
      "VPAMTr         9.942206e+02 -9.957932e+02\n",
      "WCOS           0.000000e+00  0.000000e+00\n",
      "X5PL3E         0.000000e+00  0.000000e+00\n",
      "XAND          -5.610445e-12  0.000000e+00\n",
      "XANt2pp       -3.829226e-10  0.000000e+00\n",
      "XANtex         0.000000e+00 -4.782312e-13\n",
      "XANtpp         0.000000e+00 -3.514999e-11\n",
      "XMPtex         0.000000e+00 -2.246006e-13\n",
      "XPPT          -5.259793e-11  0.000000e+00\n",
      "XTSNH         -9.589802e-11  0.000000e+00\n",
      "XTSNt2rpp      0.000000e+00 -2.246006e-13\n",
      "XTSNtex        0.000000e+00 -2.246006e-13\n",
      "XYLI1          0.000000e+00  0.000000e+00\n",
      "XYLI2         -3.838068e-10 -8.787499e-12\n",
      "XYLK           0.000000e+00 -4.449366e-13\n",
      "XYLK2          0.000000e+00 -4.449366e-13\n",
      "XYLUt2pp       0.000000e+00 -4.449366e-13\n",
      "XYLUtex        0.000000e+00 -4.449366e-13\n",
      "XYLabcpp      -1.279356e-10  0.000000e+00\n",
      "XYLt2pp        0.000000e+00  0.000000e+00\n",
      "XYLtex         0.000000e+00 -4.449366e-13\n",
      "ZN2abcpp      -9.595169e-11  0.000000e+00\n",
      "ZN2t3pp       -3.838068e-10  0.000000e+00\n",
      "ZN2tpp         3.389984e-03  3.389985e-03\n",
      "ZNabcpp       -9.595169e-11  0.000000e+00\n",
      "Zn2tex         3.389985e-03  3.389985e-03\n",
      "\n",
      "[2583 rows x 2 columns]\n"
     ]
    }
   ],
   "source": [
    "# perform a Flux Variability Analysis\n",
    "fva = cobra.flux_analysis.flux_variability_analysis(model,fraction_of_optimum=1)\n",
    "print (fva)"
   ]
  },
  {
   "cell_type": "markdown",
   "metadata": {},
   "source": [
    "### Learning from the logical rules behind the reactions"
   ]
  },
  {
   "cell_type": "code",
   "execution_count": 87,
   "metadata": {},
   "outputs": [
    {
     "data": {
      "text/plain": [
       "'b2464 or b0008'"
      ]
     },
     "execution_count": 87,
     "metadata": {},
     "output_type": "execute_result"
    }
   ],
   "source": [
    "r=model.reactions.get_by_id(\"TALA\")\n",
    "r.gene_reaction_rule"
   ]
  }
 ],
 "metadata": {
  "kernelspec": {
   "display_name": "Python 3",
   "language": "python",
   "name": "python3"
  },
  "language_info": {
   "codemirror_mode": {
    "name": "ipython",
    "version": 3
   },
   "file_extension": ".py",
   "mimetype": "text/x-python",
   "name": "python",
   "nbconvert_exporter": "python",
   "pygments_lexer": "ipython3",
   "version": "3.6.7"
  }
 },
 "nbformat": 4,
 "nbformat_minor": 2
}
